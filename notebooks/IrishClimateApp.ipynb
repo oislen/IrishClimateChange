{
 "cells": [
  {
   "cell_type": "code",
   "execution_count": 1,
   "id": "02ee82a6-389c-49a8-a49f-e232acae04f6",
   "metadata": {},
   "outputs": [],
   "source": [
    "import sys\n",
    "import os\n",
    "import platform\n",
    "# add relevant paths\n",
    "ica_dir = os.path.dirname(os.getcwd())\n",
    "scripts_dir = os.path.join(ica_dir, \"scripts\")\n",
    "sys.path.append(ica_dir)\n",
    "sys.path.append(scripts_dir)\n",
    "import scripts.cons as cons\n",
    "from IPython.display import IFrame\n",
    "from subprocess import Popen"
   ]
  },
  {
   "attachments": {},
   "cell_type": "markdown",
   "id": "49b2bf98-020a-4104-a266-fcc29c6d5d05",
   "metadata": {},
   "source": [
    "# Bokeh Server Applications"
   ]
  },
  {
   "cell_type": "code",
   "execution_count": 2,
   "id": "0285bb2a-8490-4090-b4d5-aed73a03a0ac",
   "metadata": {},
   "outputs": [],
   "source": [
    "def run_bokeh_server_apps(cmd, cwd, shell=True):\n",
    "    \"\"\"\"\"\"\n",
    "    # run bokeh application in background via execution command\n",
    "    p = Popen(cmd, cwd=cwd, shell=True)\n",
    "    stdout, stderr = p.communicate()"
   ]
  },
  {
   "cell_type": "code",
   "execution_count": 3,
   "id": "4b5e7dcd-b353-4dff-9f77-f333afe44545",
   "metadata": {},
   "outputs": [],
   "source": [
    "# determine operating system and relevant execution command\n",
    "cmd = cons.bat_execBokehApp if platform.system() == 'Windows' else cons.sh_execBokehApp\n",
    "# set the surrent working directory\n",
    "cwd = os.path.join(os.path.dirname(os.getcwd()), 'scripts')\n",
    "run_bokeh_server_apps(cmd, cwd)"
   ]
  },
  {
   "cell_type": "code",
   "execution_count": 4,
   "id": "65b409d2-8220-4086-a336-9871f23ea4a8",
   "metadata": {},
   "outputs": [
    {
     "data": {
      "text/html": [
       "\n",
       "        <iframe\n",
       "            width=\"1200\"\n",
       "            height=\"700\"\n",
       "            src=\"http://localhost:5006/bokeh_map_app\"\n",
       "            frameborder=\"0\"\n",
       "            allowfullscreen\n",
       "            \n",
       "        ></iframe>\n",
       "        "
      ],
      "text/plain": [
       "<IPython.lib.display.IFrame at 0x1c3946cdb10>"
      ]
     },
     "execution_count": 4,
     "metadata": {},
     "output_type": "execute_result"
    }
   ],
   "source": [
    "# Create and deploy interactive data applications\n",
    "IFrame('http://localhost:5006/bokeh_map_app', width=1200, height=700)"
   ]
  },
  {
   "cell_type": "code",
   "execution_count": 5,
   "id": "b1e0e795-2015-46f0-a787-9e693534757c",
   "metadata": {},
   "outputs": [
    {
     "data": {
      "text/html": [
       "\n",
       "        <iframe\n",
       "            width=\"1200\"\n",
       "            height=\"700\"\n",
       "            src=\"http://localhost:5006/bokeh_line_app\"\n",
       "            frameborder=\"0\"\n",
       "            allowfullscreen\n",
       "            \n",
       "        ></iframe>\n",
       "        "
      ],
      "text/plain": [
       "<IPython.lib.display.IFrame at 0x1c394867890>"
      ]
     },
     "execution_count": 5,
     "metadata": {},
     "output_type": "execute_result"
    }
   ],
   "source": [
    "# Create and deploy interactive data applications\n",
    "IFrame('http://localhost:5006/bokeh_line_app', width=1200, height=700)"
   ]
  }
 ],
 "metadata": {
  "kernelspec": {
   "display_name": "Python 3 (ipykernel)",
   "language": "python",
   "name": "python3"
  },
  "language_info": {
   "codemirror_mode": {
    "name": "ipython",
    "version": 3
   },
   "file_extension": ".py",
   "mimetype": "text/x-python",
   "name": "python",
   "nbconvert_exporter": "python",
   "pygments_lexer": "ipython3",
   "version": "3.11.3"
  },
  "vscode": {
   "interpreter": {
    "hash": "16f5b46f222e2a3e8d4adbf7141cae37b71ed37616e60735fa5d1164a1bc3ada"
   }
  }
 },
 "nbformat": 4,
 "nbformat_minor": 5
}
