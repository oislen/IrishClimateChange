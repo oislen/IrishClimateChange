{
 "cells": [
  {
   "cell_type": "code",
   "execution_count": 1,
   "id": "02ee82a6-389c-49a8-a49f-e232acae04f6",
   "metadata": {},
   "outputs": [],
   "source": [
    "# import relevant libraries\n",
    "import sys\n",
    "import os"
   ]
  },
  {
   "cell_type": "code",
   "execution_count": 2,
   "id": "76510fa9",
   "metadata": {},
   "outputs": [],
   "source": [
    "# add relevant paths\n",
    "ica_dir = os.path.dirname(os.getcwd())\n",
    "dashboard_dir = os.path.join(ica_dir, \"dashboard\")\n",
    "sys.path.append(ica_dir)\n",
    "sys.path.append(dashboard_dir)"
   ]
  },
  {
   "cell_type": "code",
   "execution_count": 3,
   "id": "24af3042-c283-4cb1-80bb-d4aaa2be5161",
   "metadata": {},
   "outputs": [],
   "source": [
    "# import custom modules\n",
    "import cons\n",
    "from PreProcessData.gen_counties_data import gen_counties_data\n",
    "from PreProcessData.gen_preaggregate_data import gen_preaggregate_data\n",
    "from PreProcessData.gen_stations_data import gen_stations_data\n",
    "from utilities.time_data import time_data\n",
    "from SeaBornPlots.time_plot import time_plot\n",
    "from SeaBornPlots.map_plot import map_plot"
   ]
  },
  {
   "cell_type": "code",
   "execution_count": null,
   "id": "424154cb-5661-4244-8962-5790bf35b96b",
   "metadata": {},
   "outputs": [],
   "source": [
    "pre_agg_data_dict = gen_preaggregate_data(return_data = True)\n",
    "map_data_dict = gen_counties_data(pre_agg_data_dict = pre_agg_data_dict, return_data = True)\n",
    "station_data = gen_stations_data(points_data_fpath = cons.points_data_fpath, return_data = True)"
   ]
  },
  {
   "attachments": {},
   "cell_type": "markdown",
   "id": "f2659487-e5ac-4c75-8aa5-23163d470ac0",
   "metadata": {},
   "source": [
    "# Visualisation Proto-Types"
   ]
  },
  {
   "attachments": {},
   "cell_type": "markdown",
   "id": "c1bbcbf0-7af7-4652-a701-3948ddc44c98",
   "metadata": {},
   "source": [
    "## GIS Heat Map"
   ]
  },
  {
   "attachments": {},
   "cell_type": "markdown",
   "id": "da977d33-fce8-4353-8578-cb42e32b969a",
   "metadata": {},
   "source": [
    "* West coast experiences significantly more rainfall than the east coast"
   ]
  },
  {
   "cell_type": "code",
   "execution_count": null,
   "id": "dd00a1da-9362-4dcd-a72d-b3a12f1e3dd4",
   "metadata": {},
   "outputs": [],
   "source": [
    "map_plot(map_data_dict, station_data, stat = 'mean', col = 'rain')"
   ]
  },
  {
   "attachments": {},
   "cell_type": "markdown",
   "id": "5adb3eb1-6dce-465a-96f4-6c0e0f459995",
   "metadata": {},
   "source": [
    "## Time Series Plots"
   ]
  },
  {
   "cell_type": "code",
   "execution_count": 7,
   "id": "fced735f-78c6-48f8-b891-21c69dafb386",
   "metadata": {},
   "outputs": [],
   "source": [
    "date_strftime_dict = cons.date_strftime_dict\n",
    "counties = cons.counties\n",
    "agg_dict = {col:'mean' for col in cons.col_options}"
   ]
  },
  {
   "attachments": {},
   "cell_type": "markdown",
   "id": "873d86fd-e269-406e-be19-86a4d5aa7a0f",
   "metadata": {},
   "source": [
    "### Yearly Max Termperature by County"
   ]
  },
  {
   "cell_type": "code",
   "execution_count": 8,
   "id": "b6ec4f9a-d45c-49be-80a4-3dcf4bedebde",
   "metadata": {},
   "outputs": [],
   "source": [
    "# set year strftime pattern and time span\n",
    "year_strftime = date_strftime_dict['year']\n",
    "time_span = ['2010', '2019']\n",
    "# generate the time series data\n",
    "year_data = time_data(data = pre_agg_data_dict['mean'], agg_dict = agg_dict, time_span = time_span, counties = counties, strftime = year_strftime)"
   ]
  },
  {
   "cell_type": "code",
   "execution_count": null,
   "id": "02784120-1705-42f9-9ef6-1eeb12336fc6",
   "metadata": {},
   "outputs": [],
   "source": [
    "year_data.head()"
   ]
  },
  {
   "cell_type": "code",
   "execution_count": null,
   "id": "0f8567ba-fe70-490f-86b4-9d3fcbaa82ee",
   "metadata": {},
   "outputs": [],
   "source": [
    "time_plot(data = year_data, \n",
    "          x = 'index', \n",
    "          y = 'maxtp', \n",
    "          hue = 'county', \n",
    "          refline = year_data['maxtp'].mean(), \n",
    "          title = 'Irish Climate App - Max Temperature by County',\n",
    "          xlabel = 'Year',\n",
    "          ylabel = 'Max Temperature'\n",
    "         )"
   ]
  },
  {
   "attachments": {},
   "cell_type": "markdown",
   "id": "5b9aee8b-ca32-44e3-b999-d1d9dc9d7d6f",
   "metadata": {},
   "source": [
    "### Monthly Min Temperature by County"
   ]
  },
  {
   "cell_type": "code",
   "execution_count": 12,
   "id": "77c06171-e4f2-4613-9b1e-ca0924b40e73",
   "metadata": {},
   "outputs": [],
   "source": [
    "# set month strftime pattern and time span\n",
    "month_strftime = date_strftime_dict['month']\n",
    "time_span = ['01', '12']\n",
    "# generate the time series data\n",
    "month_data = time_data(data=pre_agg_data_dict['mean'], agg_dict=agg_dict, time_span=time_span, counties=counties, strftime=month_strftime)"
   ]
  },
  {
   "cell_type": "code",
   "execution_count": null,
   "id": "d8763047-f7ec-4429-bffc-b8013a3698e8",
   "metadata": {},
   "outputs": [],
   "source": [
    "month_data.head()"
   ]
  },
  {
   "cell_type": "code",
   "execution_count": null,
   "id": "a26230d1-76e9-49d1-b2e6-4d3ea86102e4",
   "metadata": {},
   "outputs": [],
   "source": [
    "time_plot(data = month_data, \n",
    "          x = 'index',\n",
    "          y = 'mintp', \n",
    "          hue = 'county', \n",
    "          refline = year_data['mintp'].mean(), \n",
    "          title = 'Irish Climate App - Min Temperature by County',\n",
    "          xlabel = 'Month',\n",
    "          ylabel = 'Min Temperature'\n",
    "         )"
   ]
  },
  {
   "cell_type": "code",
   "execution_count": null,
   "id": "02629a4a",
   "metadata": {},
   "outputs": [],
   "source": []
  },
  {
   "cell_type": "code",
   "execution_count": null,
   "id": "3083b500",
   "metadata": {},
   "outputs": [],
   "source": []
  }
 ],
 "metadata": {
  "kernelspec": {
   "display_name": "irishclimatedashboard",
   "language": "python",
   "name": "python3"
  },
  "language_info": {
   "codemirror_mode": {
    "name": "ipython",
    "version": 3
   },
   "file_extension": ".py",
   "mimetype": "text/x-python",
   "name": "python",
   "nbconvert_exporter": "python",
   "pygments_lexer": "ipython3",
   "version": "3.12.7"
  }
 },
 "nbformat": 4,
 "nbformat_minor": 5
}
